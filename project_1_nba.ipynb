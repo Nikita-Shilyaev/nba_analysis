{
 "cells": [
  {
   "cell_type": "code",
   "execution_count": 876,
   "id": "0c0529b9-3841-4d40-a3dd-fa404ed2e17d",
   "metadata": {},
   "outputs": [],
   "source": [
    "import pandas as pd\n",
    "import numpy as np\n",
    "import matplotlib.pyplot as plt\n",
    "import seaborn as sns\n",
    "import scipy.stats as ss\n",
    "import statsmodels.api as sm\n",
    "import warnings\n",
    "warnings.filterwarnings('ignore')\n",
    "pd.set_option('display.max_columns', None)"
   ]
  },
  {
   "cell_type": "markdown",
   "id": "424c1cca-00b8-4daa-94f3-2ccf37770185",
   "metadata": {},
   "source": [
    "### Download the data of all players who played in NBA in seasons 1996-97 to 2022-23 inclusively.\n",
    "Data captures demographic variables such as age, height, weight and country of birth, biographical details like the team played for, draft year and round. In addition, it has basic box score statistics such as games played, average number of points, rebounds, assists, etc."
   ]
  },
  {
   "cell_type": "code",
   "execution_count": 1071,
   "id": "a401e2b6-c6fc-456e-bb22-0e983acf5679",
   "metadata": {},
   "outputs": [],
   "source": [
    "df = pd.read_csv('data/all_seasons.csv')"
   ]
  },
  {
   "cell_type": "code",
   "execution_count": 1072,
   "id": "9dd8f311-bc09-4c4b-8aad-bad8e2666f63",
   "metadata": {},
   "outputs": [
    {
     "data": {
      "text/html": [
       "<div>\n",
       "<style scoped>\n",
       "    .dataframe tbody tr th:only-of-type {\n",
       "        vertical-align: middle;\n",
       "    }\n",
       "\n",
       "    .dataframe tbody tr th {\n",
       "        vertical-align: top;\n",
       "    }\n",
       "\n",
       "    .dataframe thead th {\n",
       "        text-align: right;\n",
       "    }\n",
       "</style>\n",
       "<table border=\"1\" class=\"dataframe\">\n",
       "  <thead>\n",
       "    <tr style=\"text-align: right;\">\n",
       "      <th></th>\n",
       "      <th>Unnamed: 0</th>\n",
       "      <th>player_name</th>\n",
       "      <th>team_abbreviation</th>\n",
       "      <th>age</th>\n",
       "      <th>player_height</th>\n",
       "      <th>player_weight</th>\n",
       "      <th>college</th>\n",
       "      <th>country</th>\n",
       "      <th>draft_year</th>\n",
       "      <th>draft_round</th>\n",
       "      <th>draft_number</th>\n",
       "      <th>gp</th>\n",
       "      <th>pts</th>\n",
       "      <th>reb</th>\n",
       "      <th>ast</th>\n",
       "      <th>net_rating</th>\n",
       "      <th>oreb_pct</th>\n",
       "      <th>dreb_pct</th>\n",
       "      <th>usg_pct</th>\n",
       "      <th>ts_pct</th>\n",
       "      <th>ast_pct</th>\n",
       "      <th>season</th>\n",
       "    </tr>\n",
       "  </thead>\n",
       "  <tbody>\n",
       "    <tr>\n",
       "      <th>0</th>\n",
       "      <td>0</td>\n",
       "      <td>Randy Livingston</td>\n",
       "      <td>HOU</td>\n",
       "      <td>22.0</td>\n",
       "      <td>193.04</td>\n",
       "      <td>94.800728</td>\n",
       "      <td>Louisiana State</td>\n",
       "      <td>USA</td>\n",
       "      <td>1996</td>\n",
       "      <td>2</td>\n",
       "      <td>42</td>\n",
       "      <td>64</td>\n",
       "      <td>3.9</td>\n",
       "      <td>1.5</td>\n",
       "      <td>2.4</td>\n",
       "      <td>0.3</td>\n",
       "      <td>0.042</td>\n",
       "      <td>0.071</td>\n",
       "      <td>0.169</td>\n",
       "      <td>0.487</td>\n",
       "      <td>0.248</td>\n",
       "      <td>1996-97</td>\n",
       "    </tr>\n",
       "    <tr>\n",
       "      <th>1</th>\n",
       "      <td>1</td>\n",
       "      <td>Gaylon Nickerson</td>\n",
       "      <td>WAS</td>\n",
       "      <td>28.0</td>\n",
       "      <td>190.50</td>\n",
       "      <td>86.182480</td>\n",
       "      <td>Northwestern Oklahoma</td>\n",
       "      <td>USA</td>\n",
       "      <td>1994</td>\n",
       "      <td>2</td>\n",
       "      <td>34</td>\n",
       "      <td>4</td>\n",
       "      <td>3.8</td>\n",
       "      <td>1.3</td>\n",
       "      <td>0.3</td>\n",
       "      <td>8.9</td>\n",
       "      <td>0.030</td>\n",
       "      <td>0.111</td>\n",
       "      <td>0.174</td>\n",
       "      <td>0.497</td>\n",
       "      <td>0.043</td>\n",
       "      <td>1996-97</td>\n",
       "    </tr>\n",
       "    <tr>\n",
       "      <th>2</th>\n",
       "      <td>2</td>\n",
       "      <td>George Lynch</td>\n",
       "      <td>VAN</td>\n",
       "      <td>26.0</td>\n",
       "      <td>203.20</td>\n",
       "      <td>103.418976</td>\n",
       "      <td>North Carolina</td>\n",
       "      <td>USA</td>\n",
       "      <td>1993</td>\n",
       "      <td>1</td>\n",
       "      <td>12</td>\n",
       "      <td>41</td>\n",
       "      <td>8.3</td>\n",
       "      <td>6.4</td>\n",
       "      <td>1.9</td>\n",
       "      <td>-8.2</td>\n",
       "      <td>0.106</td>\n",
       "      <td>0.185</td>\n",
       "      <td>0.175</td>\n",
       "      <td>0.512</td>\n",
       "      <td>0.125</td>\n",
       "      <td>1996-97</td>\n",
       "    </tr>\n",
       "    <tr>\n",
       "      <th>3</th>\n",
       "      <td>3</td>\n",
       "      <td>George McCloud</td>\n",
       "      <td>LAL</td>\n",
       "      <td>30.0</td>\n",
       "      <td>203.20</td>\n",
       "      <td>102.058200</td>\n",
       "      <td>Florida State</td>\n",
       "      <td>USA</td>\n",
       "      <td>1989</td>\n",
       "      <td>1</td>\n",
       "      <td>7</td>\n",
       "      <td>64</td>\n",
       "      <td>10.2</td>\n",
       "      <td>2.8</td>\n",
       "      <td>1.7</td>\n",
       "      <td>-2.7</td>\n",
       "      <td>0.027</td>\n",
       "      <td>0.111</td>\n",
       "      <td>0.206</td>\n",
       "      <td>0.527</td>\n",
       "      <td>0.125</td>\n",
       "      <td>1996-97</td>\n",
       "    </tr>\n",
       "    <tr>\n",
       "      <th>4</th>\n",
       "      <td>4</td>\n",
       "      <td>George Zidek</td>\n",
       "      <td>DEN</td>\n",
       "      <td>23.0</td>\n",
       "      <td>213.36</td>\n",
       "      <td>119.748288</td>\n",
       "      <td>UCLA</td>\n",
       "      <td>USA</td>\n",
       "      <td>1995</td>\n",
       "      <td>1</td>\n",
       "      <td>22</td>\n",
       "      <td>52</td>\n",
       "      <td>2.8</td>\n",
       "      <td>1.7</td>\n",
       "      <td>0.3</td>\n",
       "      <td>-14.1</td>\n",
       "      <td>0.102</td>\n",
       "      <td>0.169</td>\n",
       "      <td>0.195</td>\n",
       "      <td>0.500</td>\n",
       "      <td>0.064</td>\n",
       "      <td>1996-97</td>\n",
       "    </tr>\n",
       "  </tbody>\n",
       "</table>\n",
       "</div>"
      ],
      "text/plain": [
       "   Unnamed: 0       player_name team_abbreviation   age  player_height  \\\n",
       "0           0  Randy Livingston               HOU  22.0         193.04   \n",
       "1           1  Gaylon Nickerson               WAS  28.0         190.50   \n",
       "2           2      George Lynch               VAN  26.0         203.20   \n",
       "3           3    George McCloud               LAL  30.0         203.20   \n",
       "4           4      George Zidek               DEN  23.0         213.36   \n",
       "\n",
       "   player_weight                college country draft_year draft_round  \\\n",
       "0      94.800728        Louisiana State     USA       1996           2   \n",
       "1      86.182480  Northwestern Oklahoma     USA       1994           2   \n",
       "2     103.418976         North Carolina     USA       1993           1   \n",
       "3     102.058200          Florida State     USA       1989           1   \n",
       "4     119.748288                   UCLA     USA       1995           1   \n",
       "\n",
       "  draft_number  gp   pts  reb  ast  net_rating  oreb_pct  dreb_pct  usg_pct  \\\n",
       "0           42  64   3.9  1.5  2.4         0.3     0.042     0.071    0.169   \n",
       "1           34   4   3.8  1.3  0.3         8.9     0.030     0.111    0.174   \n",
       "2           12  41   8.3  6.4  1.9        -8.2     0.106     0.185    0.175   \n",
       "3            7  64  10.2  2.8  1.7        -2.7     0.027     0.111    0.206   \n",
       "4           22  52   2.8  1.7  0.3       -14.1     0.102     0.169    0.195   \n",
       "\n",
       "   ts_pct  ast_pct   season  \n",
       "0   0.487    0.248  1996-97  \n",
       "1   0.497    0.043  1996-97  \n",
       "2   0.512    0.125  1996-97  \n",
       "3   0.527    0.125  1996-97  \n",
       "4   0.500    0.064  1996-97  "
      ]
     },
     "execution_count": 1072,
     "metadata": {},
     "output_type": "execute_result"
    }
   ],
   "source": [
    "df.head()"
   ]
  },
  {
   "cell_type": "code",
   "execution_count": 1073,
   "id": "d8cb880a-98a8-462e-9baa-feee3a10294d",
   "metadata": {},
   "outputs": [],
   "source": [
    "df = df.drop(columns='Unnamed: 0')"
   ]
  },
  {
   "cell_type": "code",
   "execution_count": 1074,
   "id": "ff52b96e-3015-4f7f-9503-d651f9d4bc02",
   "metadata": {},
   "outputs": [],
   "source": [
    "df.player_weight = round(df.player_weight, 1)\n",
    "df.player_height = round(df.player_height, 1)"
   ]
  },
  {
   "cell_type": "markdown",
   "id": "ecc45f43-1416-4bc9-9d95-9c66bf298ce6",
   "metadata": {},
   "source": [
    "### Create binary variable to separate drafted and undrafted players."
   ]
  },
  {
   "cell_type": "code",
   "execution_count": 1075,
   "id": "a56257c2-2053-4226-83be-c11f0d33940c",
   "metadata": {},
   "outputs": [],
   "source": [
    "df['drafted_flag'] = np.where(df.draft_year == 'Undrafted', 0, 1)"
   ]
  },
  {
   "cell_type": "code",
   "execution_count": 1076,
   "id": "bc8b772b-4052-438d-bc3d-cdd8fbe2b0ee",
   "metadata": {},
   "outputs": [],
   "source": [
    "df_drafted = df[df.drafted_flag == 1]"
   ]
  },
  {
   "cell_type": "code",
   "execution_count": 1077,
   "id": "9b87d002-2b90-498f-b7be-da52abbec441",
   "metadata": {},
   "outputs": [],
   "source": [
    "df_drafted.draft_year = df_drafted.draft_year.apply(lambda year: int(year))"
   ]
  },
  {
   "cell_type": "markdown",
   "id": "ba395215-705e-4d68-8d9a-49a5f8544d3f",
   "metadata": {},
   "source": [
    "### Clearing out the dataframe 'df_drafted' from players drafted later than in the 2nd round.\n",
    "I delete all rows by column 'draft_round' containing values different from '1' or '2'."
   ]
  },
  {
   "cell_type": "code",
   "execution_count": 1078,
   "id": "ce2e7018-37e4-4ffc-8782-49641531577b",
   "metadata": {},
   "outputs": [],
   "source": [
    "df_drafted = df_drafted.drop(df_drafted[~(df_drafted.draft_round.isin(['1', '2']))].index)"
   ]
  },
  {
   "cell_type": "code",
   "execution_count": 1079,
   "id": "7c7d63c2-6350-497e-9cf6-b0b16686421c",
   "metadata": {},
   "outputs": [
    {
     "data": {
      "text/html": [
       "<div>\n",
       "<style scoped>\n",
       "    .dataframe tbody tr th:only-of-type {\n",
       "        vertical-align: middle;\n",
       "    }\n",
       "\n",
       "    .dataframe tbody tr th {\n",
       "        vertical-align: top;\n",
       "    }\n",
       "\n",
       "    .dataframe thead th {\n",
       "        text-align: right;\n",
       "    }\n",
       "</style>\n",
       "<table border=\"1\" class=\"dataframe\">\n",
       "  <thead>\n",
       "    <tr style=\"text-align: right;\">\n",
       "      <th></th>\n",
       "      <th>player_name</th>\n",
       "      <th>team_abbreviation</th>\n",
       "      <th>age</th>\n",
       "      <th>player_height</th>\n",
       "      <th>player_weight</th>\n",
       "      <th>college</th>\n",
       "      <th>country</th>\n",
       "      <th>draft_year</th>\n",
       "      <th>draft_round</th>\n",
       "      <th>draft_number</th>\n",
       "      <th>gp</th>\n",
       "      <th>pts</th>\n",
       "      <th>reb</th>\n",
       "      <th>ast</th>\n",
       "      <th>net_rating</th>\n",
       "      <th>oreb_pct</th>\n",
       "      <th>dreb_pct</th>\n",
       "      <th>usg_pct</th>\n",
       "      <th>ts_pct</th>\n",
       "      <th>ast_pct</th>\n",
       "      <th>season</th>\n",
       "      <th>drafted_flag</th>\n",
       "    </tr>\n",
       "  </thead>\n",
       "  <tbody>\n",
       "    <tr>\n",
       "      <th>0</th>\n",
       "      <td>Randy Livingston</td>\n",
       "      <td>HOU</td>\n",
       "      <td>22.0</td>\n",
       "      <td>193.0</td>\n",
       "      <td>94.8</td>\n",
       "      <td>Louisiana State</td>\n",
       "      <td>USA</td>\n",
       "      <td>1996</td>\n",
       "      <td>2</td>\n",
       "      <td>42</td>\n",
       "      <td>64</td>\n",
       "      <td>3.9</td>\n",
       "      <td>1.5</td>\n",
       "      <td>2.4</td>\n",
       "      <td>0.3</td>\n",
       "      <td>0.042</td>\n",
       "      <td>0.071</td>\n",
       "      <td>0.169</td>\n",
       "      <td>0.487</td>\n",
       "      <td>0.248</td>\n",
       "      <td>1996-97</td>\n",
       "      <td>1</td>\n",
       "    </tr>\n",
       "    <tr>\n",
       "      <th>1</th>\n",
       "      <td>Gaylon Nickerson</td>\n",
       "      <td>WAS</td>\n",
       "      <td>28.0</td>\n",
       "      <td>190.5</td>\n",
       "      <td>86.2</td>\n",
       "      <td>Northwestern Oklahoma</td>\n",
       "      <td>USA</td>\n",
       "      <td>1994</td>\n",
       "      <td>2</td>\n",
       "      <td>34</td>\n",
       "      <td>4</td>\n",
       "      <td>3.8</td>\n",
       "      <td>1.3</td>\n",
       "      <td>0.3</td>\n",
       "      <td>8.9</td>\n",
       "      <td>0.030</td>\n",
       "      <td>0.111</td>\n",
       "      <td>0.174</td>\n",
       "      <td>0.497</td>\n",
       "      <td>0.043</td>\n",
       "      <td>1996-97</td>\n",
       "      <td>1</td>\n",
       "    </tr>\n",
       "    <tr>\n",
       "      <th>2</th>\n",
       "      <td>George Lynch</td>\n",
       "      <td>VAN</td>\n",
       "      <td>26.0</td>\n",
       "      <td>203.2</td>\n",
       "      <td>103.4</td>\n",
       "      <td>North Carolina</td>\n",
       "      <td>USA</td>\n",
       "      <td>1993</td>\n",
       "      <td>1</td>\n",
       "      <td>12</td>\n",
       "      <td>41</td>\n",
       "      <td>8.3</td>\n",
       "      <td>6.4</td>\n",
       "      <td>1.9</td>\n",
       "      <td>-8.2</td>\n",
       "      <td>0.106</td>\n",
       "      <td>0.185</td>\n",
       "      <td>0.175</td>\n",
       "      <td>0.512</td>\n",
       "      <td>0.125</td>\n",
       "      <td>1996-97</td>\n",
       "      <td>1</td>\n",
       "    </tr>\n",
       "    <tr>\n",
       "      <th>3</th>\n",
       "      <td>George McCloud</td>\n",
       "      <td>LAL</td>\n",
       "      <td>30.0</td>\n",
       "      <td>203.2</td>\n",
       "      <td>102.1</td>\n",
       "      <td>Florida State</td>\n",
       "      <td>USA</td>\n",
       "      <td>1989</td>\n",
       "      <td>1</td>\n",
       "      <td>7</td>\n",
       "      <td>64</td>\n",
       "      <td>10.2</td>\n",
       "      <td>2.8</td>\n",
       "      <td>1.7</td>\n",
       "      <td>-2.7</td>\n",
       "      <td>0.027</td>\n",
       "      <td>0.111</td>\n",
       "      <td>0.206</td>\n",
       "      <td>0.527</td>\n",
       "      <td>0.125</td>\n",
       "      <td>1996-97</td>\n",
       "      <td>1</td>\n",
       "    </tr>\n",
       "    <tr>\n",
       "      <th>4</th>\n",
       "      <td>George Zidek</td>\n",
       "      <td>DEN</td>\n",
       "      <td>23.0</td>\n",
       "      <td>213.4</td>\n",
       "      <td>119.7</td>\n",
       "      <td>UCLA</td>\n",
       "      <td>USA</td>\n",
       "      <td>1995</td>\n",
       "      <td>1</td>\n",
       "      <td>22</td>\n",
       "      <td>52</td>\n",
       "      <td>2.8</td>\n",
       "      <td>1.7</td>\n",
       "      <td>0.3</td>\n",
       "      <td>-14.1</td>\n",
       "      <td>0.102</td>\n",
       "      <td>0.169</td>\n",
       "      <td>0.195</td>\n",
       "      <td>0.500</td>\n",
       "      <td>0.064</td>\n",
       "      <td>1996-97</td>\n",
       "      <td>1</td>\n",
       "    </tr>\n",
       "  </tbody>\n",
       "</table>\n",
       "</div>"
      ],
      "text/plain": [
       "        player_name team_abbreviation   age  player_height  player_weight  \\\n",
       "0  Randy Livingston               HOU  22.0          193.0           94.8   \n",
       "1  Gaylon Nickerson               WAS  28.0          190.5           86.2   \n",
       "2      George Lynch               VAN  26.0          203.2          103.4   \n",
       "3    George McCloud               LAL  30.0          203.2          102.1   \n",
       "4      George Zidek               DEN  23.0          213.4          119.7   \n",
       "\n",
       "                 college country  draft_year draft_round draft_number  gp  \\\n",
       "0        Louisiana State     USA        1996           2           42  64   \n",
       "1  Northwestern Oklahoma     USA        1994           2           34   4   \n",
       "2         North Carolina     USA        1993           1           12  41   \n",
       "3          Florida State     USA        1989           1            7  64   \n",
       "4                   UCLA     USA        1995           1           22  52   \n",
       "\n",
       "    pts  reb  ast  net_rating  oreb_pct  dreb_pct  usg_pct  ts_pct  ast_pct  \\\n",
       "0   3.9  1.5  2.4         0.3     0.042     0.071    0.169   0.487    0.248   \n",
       "1   3.8  1.3  0.3         8.9     0.030     0.111    0.174   0.497    0.043   \n",
       "2   8.3  6.4  1.9        -8.2     0.106     0.185    0.175   0.512    0.125   \n",
       "3  10.2  2.8  1.7        -2.7     0.027     0.111    0.206   0.527    0.125   \n",
       "4   2.8  1.7  0.3       -14.1     0.102     0.169    0.195   0.500    0.064   \n",
       "\n",
       "    season  drafted_flag  \n",
       "0  1996-97             1  \n",
       "1  1996-97             1  \n",
       "2  1996-97             1  \n",
       "3  1996-97             1  \n",
       "4  1996-97             1  "
      ]
     },
     "execution_count": 1079,
     "metadata": {},
     "output_type": "execute_result"
    }
   ],
   "source": [
    "df_drafted.head()"
   ]
  },
  {
   "cell_type": "code",
   "execution_count": 1080,
   "id": "722c149b-1bb3-4e8d-908e-b0b67d532562",
   "metadata": {},
   "outputs": [],
   "source": [
    "df_undrafted = df[df.drafted_flag == 0]"
   ]
  },
  {
   "cell_type": "code",
   "execution_count": 1081,
   "id": "8a3b4ded-e381-42aa-b8ed-fe93643e77c6",
   "metadata": {},
   "outputs": [],
   "source": [
    "df_undrafted[['draft_year', 'draft_round', 'draft_number']] = \\\n",
    "df_undrafted[['draft_year', 'draft_round', 'draft_number']].replace('Undrafted', np.nan)"
   ]
  },
  {
   "cell_type": "code",
   "execution_count": 1082,
   "id": "899ad72f-e8e8-4072-8fca-c6cf957fdaae",
   "metadata": {},
   "outputs": [
    {
     "data": {
      "text/html": [
       "<div>\n",
       "<style scoped>\n",
       "    .dataframe tbody tr th:only-of-type {\n",
       "        vertical-align: middle;\n",
       "    }\n",
       "\n",
       "    .dataframe tbody tr th {\n",
       "        vertical-align: top;\n",
       "    }\n",
       "\n",
       "    .dataframe thead th {\n",
       "        text-align: right;\n",
       "    }\n",
       "</style>\n",
       "<table border=\"1\" class=\"dataframe\">\n",
       "  <thead>\n",
       "    <tr style=\"text-align: right;\">\n",
       "      <th></th>\n",
       "      <th>player_name</th>\n",
       "      <th>team_abbreviation</th>\n",
       "      <th>age</th>\n",
       "      <th>player_height</th>\n",
       "      <th>player_weight</th>\n",
       "      <th>college</th>\n",
       "      <th>country</th>\n",
       "      <th>draft_year</th>\n",
       "      <th>draft_round</th>\n",
       "      <th>draft_number</th>\n",
       "      <th>gp</th>\n",
       "      <th>pts</th>\n",
       "      <th>reb</th>\n",
       "      <th>ast</th>\n",
       "      <th>net_rating</th>\n",
       "      <th>oreb_pct</th>\n",
       "      <th>dreb_pct</th>\n",
       "      <th>usg_pct</th>\n",
       "      <th>ts_pct</th>\n",
       "      <th>ast_pct</th>\n",
       "      <th>season</th>\n",
       "      <th>drafted_flag</th>\n",
       "    </tr>\n",
       "  </thead>\n",
       "  <tbody>\n",
       "    <tr>\n",
       "      <th>29</th>\n",
       "      <td>Emanual Davis</td>\n",
       "      <td>HOU</td>\n",
       "      <td>28.0</td>\n",
       "      <td>195.6</td>\n",
       "      <td>88.0</td>\n",
       "      <td>Delaware State</td>\n",
       "      <td>USA</td>\n",
       "      <td>NaN</td>\n",
       "      <td>NaN</td>\n",
       "      <td>NaN</td>\n",
       "      <td>13</td>\n",
       "      <td>5.0</td>\n",
       "      <td>1.7</td>\n",
       "      <td>2.0</td>\n",
       "      <td>6.6</td>\n",
       "      <td>0.011</td>\n",
       "      <td>0.098</td>\n",
       "      <td>0.144</td>\n",
       "      <td>0.565</td>\n",
       "      <td>0.191</td>\n",
       "      <td>1996-97</td>\n",
       "      <td>0</td>\n",
       "    </tr>\n",
       "    <tr>\n",
       "      <th>39</th>\n",
       "      <td>Erick Strickland</td>\n",
       "      <td>DAL</td>\n",
       "      <td>23.0</td>\n",
       "      <td>190.5</td>\n",
       "      <td>95.3</td>\n",
       "      <td>Nebraska</td>\n",
       "      <td>USA</td>\n",
       "      <td>NaN</td>\n",
       "      <td>NaN</td>\n",
       "      <td>NaN</td>\n",
       "      <td>28</td>\n",
       "      <td>10.6</td>\n",
       "      <td>3.2</td>\n",
       "      <td>2.4</td>\n",
       "      <td>-6.4</td>\n",
       "      <td>0.032</td>\n",
       "      <td>0.112</td>\n",
       "      <td>0.216</td>\n",
       "      <td>0.510</td>\n",
       "      <td>0.161</td>\n",
       "      <td>1996-97</td>\n",
       "      <td>0</td>\n",
       "    </tr>\n",
       "    <tr>\n",
       "      <th>41</th>\n",
       "      <td>Evric Gray</td>\n",
       "      <td>NJN</td>\n",
       "      <td>27.0</td>\n",
       "      <td>200.7</td>\n",
       "      <td>106.6</td>\n",
       "      <td>Nevada-Las Vegas</td>\n",
       "      <td>USA</td>\n",
       "      <td>NaN</td>\n",
       "      <td>NaN</td>\n",
       "      <td>NaN</td>\n",
       "      <td>5</td>\n",
       "      <td>2.6</td>\n",
       "      <td>0.6</td>\n",
       "      <td>0.4</td>\n",
       "      <td>17.5</td>\n",
       "      <td>0.026</td>\n",
       "      <td>0.049</td>\n",
       "      <td>0.192</td>\n",
       "      <td>0.388</td>\n",
       "      <td>0.065</td>\n",
       "      <td>1996-97</td>\n",
       "      <td>0</td>\n",
       "    </tr>\n",
       "    <tr>\n",
       "      <th>46</th>\n",
       "      <td>Henry James</td>\n",
       "      <td>ATL</td>\n",
       "      <td>31.0</td>\n",
       "      <td>203.2</td>\n",
       "      <td>99.8</td>\n",
       "      <td>St. Mary's (TX)</td>\n",
       "      <td>USA</td>\n",
       "      <td>NaN</td>\n",
       "      <td>NaN</td>\n",
       "      <td>NaN</td>\n",
       "      <td>53</td>\n",
       "      <td>6.7</td>\n",
       "      <td>1.5</td>\n",
       "      <td>0.4</td>\n",
       "      <td>1.2</td>\n",
       "      <td>0.034</td>\n",
       "      <td>0.067</td>\n",
       "      <td>0.171</td>\n",
       "      <td>0.555</td>\n",
       "      <td>0.036</td>\n",
       "      <td>1996-97</td>\n",
       "      <td>0</td>\n",
       "    </tr>\n",
       "    <tr>\n",
       "      <th>54</th>\n",
       "      <td>Jimmy Carruth</td>\n",
       "      <td>MIL</td>\n",
       "      <td>27.0</td>\n",
       "      <td>208.3</td>\n",
       "      <td>120.2</td>\n",
       "      <td>Virginia Tech</td>\n",
       "      <td>USA</td>\n",
       "      <td>NaN</td>\n",
       "      <td>NaN</td>\n",
       "      <td>NaN</td>\n",
       "      <td>4</td>\n",
       "      <td>1.3</td>\n",
       "      <td>1.0</td>\n",
       "      <td>0.0</td>\n",
       "      <td>-17.7</td>\n",
       "      <td>0.000</td>\n",
       "      <td>0.211</td>\n",
       "      <td>0.103</td>\n",
       "      <td>0.727</td>\n",
       "      <td>0.000</td>\n",
       "      <td>1996-97</td>\n",
       "      <td>0</td>\n",
       "    </tr>\n",
       "  </tbody>\n",
       "</table>\n",
       "</div>"
      ],
      "text/plain": [
       "         player_name team_abbreviation   age  player_height  player_weight  \\\n",
       "29     Emanual Davis               HOU  28.0          195.6           88.0   \n",
       "39  Erick Strickland               DAL  23.0          190.5           95.3   \n",
       "41        Evric Gray               NJN  27.0          200.7          106.6   \n",
       "46       Henry James               ATL  31.0          203.2           99.8   \n",
       "54     Jimmy Carruth               MIL  27.0          208.3          120.2   \n",
       "\n",
       "             college country  draft_year  draft_round  draft_number  gp   pts  \\\n",
       "29    Delaware State     USA         NaN          NaN           NaN  13   5.0   \n",
       "39          Nebraska     USA         NaN          NaN           NaN  28  10.6   \n",
       "41  Nevada-Las Vegas     USA         NaN          NaN           NaN   5   2.6   \n",
       "46   St. Mary's (TX)     USA         NaN          NaN           NaN  53   6.7   \n",
       "54     Virginia Tech     USA         NaN          NaN           NaN   4   1.3   \n",
       "\n",
       "    reb  ast  net_rating  oreb_pct  dreb_pct  usg_pct  ts_pct  ast_pct  \\\n",
       "29  1.7  2.0         6.6     0.011     0.098    0.144   0.565    0.191   \n",
       "39  3.2  2.4        -6.4     0.032     0.112    0.216   0.510    0.161   \n",
       "41  0.6  0.4        17.5     0.026     0.049    0.192   0.388    0.065   \n",
       "46  1.5  0.4         1.2     0.034     0.067    0.171   0.555    0.036   \n",
       "54  1.0  0.0       -17.7     0.000     0.211    0.103   0.727    0.000   \n",
       "\n",
       "     season  drafted_flag  \n",
       "29  1996-97             0  \n",
       "39  1996-97             0  \n",
       "41  1996-97             0  \n",
       "46  1996-97             0  \n",
       "54  1996-97             0  "
      ]
     },
     "execution_count": 1082,
     "metadata": {},
     "output_type": "execute_result"
    }
   ],
   "source": [
    "df_undrafted.head()"
   ]
  },
  {
   "cell_type": "markdown",
   "id": "048dc474-0310-4dd3-a3be-dfb10948c742",
   "metadata": {},
   "source": [
    "### Combine dataframes back together."
   ]
  },
  {
   "cell_type": "code",
   "execution_count": 1083,
   "id": "ac50d277-8651-4d67-a09a-35d8ab3631db",
   "metadata": {},
   "outputs": [],
   "source": [
    "df = pd.concat([df_drafted, df_undrafted]).reset_index(drop=True)"
   ]
  },
  {
   "cell_type": "markdown",
   "id": "995732d1-8d53-4ae0-83db-4a2f7329f518",
   "metadata": {},
   "source": [
    "### Define outliers. \n",
    "Find outliers in 'age' and 'height', check if they affect the measurements and eliminate them if needed."
   ]
  },
  {
   "cell_type": "code",
   "execution_count": 754,
   "id": "7870025a-a1d5-4122-8a0d-2203011016a1",
   "metadata": {},
   "outputs": [
    {
     "data": {
      "text/plain": [
       "<Axes: xlabel='drafted_flag', ylabel='age'>"
      ]
     },
     "execution_count": 754,
     "metadata": {},
     "output_type": "execute_result"
    },
    {
     "data": {
      "image/png": "[encoded data removed]",
      "text/plain": [
       "<Figure size 640x480 with 1 Axes>"
      ]
     },
     "metadata": {},
     "output_type": "display_data"
    }
   ],
   "source": [
    "sns.boxplot(x=df.drafted_flag, y=df.age)"
   ]
  },
  {
   "cell_type": "code",
   "execution_count": 755,
   "id": "dc25af95-8876-4462-a0d1-159231bbb8de",
   "metadata": {},
   "outputs": [
    {
     "data": {
      "text/plain": [
       "count    12741.000000\n",
       "mean        27.022683\n",
       "std          4.327384\n",
       "min         18.000000\n",
       "25%         24.000000\n",
       "50%         26.000000\n",
       "75%         30.000000\n",
       "max         44.000000\n",
       "Name: age, dtype: float64"
      ]
     },
     "execution_count": 755,
     "metadata": {},
     "output_type": "execute_result"
    }
   ],
   "source": [
    "df.age.describe()"
   ]
  },
  {
   "cell_type": "code",
   "execution_count": 756,
   "id": "6f75d60f-d8f5-48ac-a180-26e9c3329bbf",
   "metadata": {},
   "outputs": [],
   "source": [
    "Q1 = 24\n",
    "Q3 = 30\n",
    "IQR = Q3 - Q1"
   ]
  },
  {
   "cell_type": "code",
   "execution_count": 757,
   "id": "9c6f2826-a9a3-4743-a856-27a3dc96af7c",
   "metadata": {},
   "outputs": [
    {
     "name": "stdout",
     "output_type": "stream",
     "text": [
      "15.0 39.0\n"
     ]
    }
   ],
   "source": [
    "iqr_bottom = Q1 - 1.5 * IQR\n",
    "iqr_top = Q3 + 1.5 * IQR\n",
    "print(iqr_bottom, iqr_top)"
   ]
  },
  {
   "cell_type": "code",
   "execution_count": 758,
   "id": "58849f88-1a04-4c91-9e30-19d28a696aa3",
   "metadata": {},
   "outputs": [
    {
     "data": {
      "text/html": [
       "<div>\n",
       "<style scoped>\n",
       "    .dataframe tbody tr th:only-of-type {\n",
       "        vertical-align: middle;\n",
       "    }\n",
       "\n",
       "    .dataframe tbody tr th {\n",
       "        vertical-align: top;\n",
       "    }\n",
       "\n",
       "    .dataframe thead th {\n",
       "        text-align: right;\n",
       "    }\n",
       "</style>\n",
       "<table border=\"1\" class=\"dataframe\">\n",
       "  <thead>\n",
       "    <tr style=\"text-align: right;\">\n",
       "      <th></th>\n",
       "      <th>player_name</th>\n",
       "      <th>team_abbreviation</th>\n",
       "      <th>age</th>\n",
       "      <th>player_height</th>\n",
       "      <th>player_weight</th>\n",
       "      <th>college</th>\n",
       "      <th>country</th>\n",
       "      <th>draft_year</th>\n",
       "      <th>draft_round</th>\n",
       "      <th>draft_number</th>\n",
       "      <th>gp</th>\n",
       "      <th>pts</th>\n",
       "      <th>reb</th>\n",
       "      <th>ast</th>\n",
       "      <th>net_rating</th>\n",
       "      <th>oreb_pct</th>\n",
       "      <th>dreb_pct</th>\n",
       "      <th>usg_pct</th>\n",
       "      <th>ts_pct</th>\n",
       "      <th>ast_pct</th>\n",
       "      <th>season</th>\n",
       "      <th>drafted_flag</th>\n",
       "    </tr>\n",
       "  </thead>\n",
       "  <tbody>\n",
       "    <tr>\n",
       "      <th>4025</th>\n",
       "      <td>Kevin Willis</td>\n",
       "      <td>DAL</td>\n",
       "      <td>44.0</td>\n",
       "      <td>213.4</td>\n",
       "      <td>111.1</td>\n",
       "      <td>Michigan State</td>\n",
       "      <td>USA</td>\n",
       "      <td>1984.0</td>\n",
       "      <td>1</td>\n",
       "      <td>11</td>\n",
       "      <td>5</td>\n",
       "      <td>2.4</td>\n",
       "      <td>1.6</td>\n",
       "      <td>0.2</td>\n",
       "      <td>11.9</td>\n",
       "      <td>0.063</td>\n",
       "      <td>0.222</td>\n",
       "      <td>0.184</td>\n",
       "      <td>0.432</td>\n",
       "      <td>0.034</td>\n",
       "      <td>2006-07</td>\n",
       "      <td>1</td>\n",
       "    </tr>\n",
       "    <tr>\n",
       "      <th>9060</th>\n",
       "      <td>Vince Carter</td>\n",
       "      <td>ATL</td>\n",
       "      <td>43.0</td>\n",
       "      <td>198.1</td>\n",
       "      <td>99.8</td>\n",
       "      <td>North Carolina</td>\n",
       "      <td>USA</td>\n",
       "      <td>1998.0</td>\n",
       "      <td>1</td>\n",
       "      <td>5</td>\n",
       "      <td>60</td>\n",
       "      <td>5.0</td>\n",
       "      <td>2.1</td>\n",
       "      <td>0.8</td>\n",
       "      <td>-8.1</td>\n",
       "      <td>0.019</td>\n",
       "      <td>0.114</td>\n",
       "      <td>0.163</td>\n",
       "      <td>0.470</td>\n",
       "      <td>0.081</td>\n",
       "      <td>2019-20</td>\n",
       "      <td>1</td>\n",
       "    </tr>\n",
       "    <tr>\n",
       "      <th>4515</th>\n",
       "      <td>Dikembe Mutombo</td>\n",
       "      <td>HOU</td>\n",
       "      <td>43.0</td>\n",
       "      <td>218.4</td>\n",
       "      <td>117.9</td>\n",
       "      <td>Georgetown</td>\n",
       "      <td>Congo</td>\n",
       "      <td>1991.0</td>\n",
       "      <td>1</td>\n",
       "      <td>4</td>\n",
       "      <td>9</td>\n",
       "      <td>1.8</td>\n",
       "      <td>3.7</td>\n",
       "      <td>0.0</td>\n",
       "      <td>1.8</td>\n",
       "      <td>0.152</td>\n",
       "      <td>0.241</td>\n",
       "      <td>0.111</td>\n",
       "      <td>0.472</td>\n",
       "      <td>0.000</td>\n",
       "      <td>2008-09</td>\n",
       "      <td>1</td>\n",
       "    </tr>\n",
       "    <tr>\n",
       "      <th>186</th>\n",
       "      <td>Robert Parish</td>\n",
       "      <td>CHI</td>\n",
       "      <td>43.0</td>\n",
       "      <td>215.9</td>\n",
       "      <td>110.7</td>\n",
       "      <td>Centenary (LA)</td>\n",
       "      <td>USA</td>\n",
       "      <td>1976.0</td>\n",
       "      <td>1</td>\n",
       "      <td>8</td>\n",
       "      <td>43</td>\n",
       "      <td>3.7</td>\n",
       "      <td>2.1</td>\n",
       "      <td>0.5</td>\n",
       "      <td>14.9</td>\n",
       "      <td>0.114</td>\n",
       "      <td>0.130</td>\n",
       "      <td>0.201</td>\n",
       "      <td>0.514</td>\n",
       "      <td>0.082</td>\n",
       "      <td>1996-97</td>\n",
       "      <td>1</td>\n",
       "    </tr>\n",
       "    <tr>\n",
       "      <th>12624</th>\n",
       "      <td>Udonis Haslem</td>\n",
       "      <td>MIA</td>\n",
       "      <td>43.0</td>\n",
       "      <td>200.7</td>\n",
       "      <td>106.6</td>\n",
       "      <td>Florida</td>\n",
       "      <td>USA</td>\n",
       "      <td>NaN</td>\n",
       "      <td>NaN</td>\n",
       "      <td>NaN</td>\n",
       "      <td>7</td>\n",
       "      <td>3.9</td>\n",
       "      <td>1.6</td>\n",
       "      <td>0.0</td>\n",
       "      <td>-11.8</td>\n",
       "      <td>0.047</td>\n",
       "      <td>0.101</td>\n",
       "      <td>0.185</td>\n",
       "      <td>0.433</td>\n",
       "      <td>0.000</td>\n",
       "      <td>2022-23</td>\n",
       "      <td>0</td>\n",
       "    </tr>\n",
       "    <tr>\n",
       "      <th>4100</th>\n",
       "      <td>Dikembe Mutombo</td>\n",
       "      <td>HOU</td>\n",
       "      <td>42.0</td>\n",
       "      <td>218.4</td>\n",
       "      <td>117.9</td>\n",
       "      <td>Georgetown</td>\n",
       "      <td>Congo</td>\n",
       "      <td>1991.0</td>\n",
       "      <td>1</td>\n",
       "      <td>4</td>\n",
       "      <td>39</td>\n",
       "      <td>3.0</td>\n",
       "      <td>5.1</td>\n",
       "      <td>0.1</td>\n",
       "      <td>3.6</td>\n",
       "      <td>0.118</td>\n",
       "      <td>0.221</td>\n",
       "      <td>0.086</td>\n",
       "      <td>0.591</td>\n",
       "      <td>0.012</td>\n",
       "      <td>2007-08</td>\n",
       "      <td>1</td>\n",
       "    </tr>\n",
       "    <tr>\n",
       "      <th>2986</th>\n",
       "      <td>Kevin Willis</td>\n",
       "      <td>ATL</td>\n",
       "      <td>42.0</td>\n",
       "      <td>213.4</td>\n",
       "      <td>111.1</td>\n",
       "      <td>Michigan State</td>\n",
       "      <td>USA</td>\n",
       "      <td>1984.0</td>\n",
       "      <td>1</td>\n",
       "      <td>11</td>\n",
       "      <td>29</td>\n",
       "      <td>3.0</td>\n",
       "      <td>2.6</td>\n",
       "      <td>0.3</td>\n",
       "      <td>-15.5</td>\n",
       "      <td>0.091</td>\n",
       "      <td>0.164</td>\n",
       "      <td>0.151</td>\n",
       "      <td>0.434</td>\n",
       "      <td>0.043</td>\n",
       "      <td>2004-05</td>\n",
       "      <td>1</td>\n",
       "    </tr>\n",
       "    <tr>\n",
       "      <th>12440</th>\n",
       "      <td>Udonis Haslem</td>\n",
       "      <td>MIA</td>\n",
       "      <td>42.0</td>\n",
       "      <td>203.2</td>\n",
       "      <td>106.6</td>\n",
       "      <td>Florida</td>\n",
       "      <td>USA</td>\n",
       "      <td>NaN</td>\n",
       "      <td>NaN</td>\n",
       "      <td>NaN</td>\n",
       "      <td>13</td>\n",
       "      <td>2.5</td>\n",
       "      <td>1.9</td>\n",
       "      <td>0.3</td>\n",
       "      <td>-9.5</td>\n",
       "      <td>0.043</td>\n",
       "      <td>0.239</td>\n",
       "      <td>0.183</td>\n",
       "      <td>0.495</td>\n",
       "      <td>0.077</td>\n",
       "      <td>2021-22</td>\n",
       "      <td>0</td>\n",
       "    </tr>\n",
       "    <tr>\n",
       "      <th>8613</th>\n",
       "      <td>Vince Carter</td>\n",
       "      <td>ATL</td>\n",
       "      <td>42.0</td>\n",
       "      <td>198.1</td>\n",
       "      <td>99.8</td>\n",
       "      <td>North Carolina</td>\n",
       "      <td>USA</td>\n",
       "      <td>1998.0</td>\n",
       "      <td>1</td>\n",
       "      <td>5</td>\n",
       "      <td>76</td>\n",
       "      <td>7.4</td>\n",
       "      <td>2.6</td>\n",
       "      <td>1.1</td>\n",
       "      <td>-6.3</td>\n",
       "      <td>0.021</td>\n",
       "      <td>0.114</td>\n",
       "      <td>0.164</td>\n",
       "      <td>0.565</td>\n",
       "      <td>0.097</td>\n",
       "      <td>2018-19</td>\n",
       "      <td>1</td>\n",
       "    </tr>\n",
       "    <tr>\n",
       "      <th>773</th>\n",
       "      <td>Herb Williams</td>\n",
       "      <td>NYK</td>\n",
       "      <td>41.0</td>\n",
       "      <td>210.8</td>\n",
       "      <td>117.9</td>\n",
       "      <td>Ohio State</td>\n",
       "      <td>USA</td>\n",
       "      <td>1981.0</td>\n",
       "      <td>1</td>\n",
       "      <td>14</td>\n",
       "      <td>6</td>\n",
       "      <td>1.7</td>\n",
       "      <td>1.0</td>\n",
       "      <td>0.0</td>\n",
       "      <td>0.9</td>\n",
       "      <td>0.088</td>\n",
       "      <td>0.103</td>\n",
       "      <td>0.138</td>\n",
       "      <td>0.563</td>\n",
       "      <td>0.000</td>\n",
       "      <td>1998-99</td>\n",
       "      <td>1</td>\n",
       "    </tr>\n",
       "  </tbody>\n",
       "</table>\n",
       "</div>"
      ],
      "text/plain": [
       "           player_name team_abbreviation   age  player_height  player_weight  \\\n",
       "4025      Kevin Willis               DAL  44.0          213.4          111.1   \n",
       "9060      Vince Carter               ATL  43.0          198.1           99.8   \n",
       "4515   Dikembe Mutombo               HOU  43.0          218.4          117.9   \n",
       "186      Robert Parish               CHI  43.0          215.9          110.7   \n",
       "12624    Udonis Haslem               MIA  43.0          200.7          106.6   \n",
       "4100   Dikembe Mutombo               HOU  42.0          218.4          117.9   \n",
       "2986      Kevin Willis               ATL  42.0          213.4          111.1   \n",
       "12440    Udonis Haslem               MIA  42.0          203.2          106.6   \n",
       "8613      Vince Carter               ATL  42.0          198.1           99.8   \n",
       "773      Herb Williams               NYK  41.0          210.8          117.9   \n",
       "\n",
       "              college country  draft_year draft_round draft_number  gp  pts  \\\n",
       "4025   Michigan State     USA      1984.0           1           11   5  2.4   \n",
       "9060   North Carolina     USA      1998.0           1            5  60  5.0   \n",
       "4515       Georgetown   Congo      1991.0           1            4   9  1.8   \n",
       "186    Centenary (LA)     USA      1976.0           1            8  43  3.7   \n",
       "12624         Florida     USA         NaN         NaN          NaN   7  3.9   \n",
       "4100       Georgetown   Congo      1991.0           1            4  39  3.0   \n",
       "2986   Michigan State     USA      1984.0           1           11  29  3.0   \n",
       "12440         Florida     USA         NaN         NaN          NaN  13  2.5   \n",
       "8613   North Carolina     USA      1998.0           1            5  76  7.4   \n",
       "773        Ohio State     USA      1981.0           1           14   6  1.7   \n",
       "\n",
       "       reb  ast  net_rating  oreb_pct  dreb_pct  usg_pct  ts_pct  ast_pct  \\\n",
       "4025   1.6  0.2        11.9     0.063     0.222    0.184   0.432    0.034   \n",
       "9060   2.1  0.8        -8.1     0.019     0.114    0.163   0.470    0.081   \n",
       "4515   3.7  0.0         1.8     0.152     0.241    0.111   0.472    0.000   \n",
       "186    2.1  0.5        14.9     0.114     0.130    0.201   0.514    0.082   \n",
       "12624  1.6  0.0       -11.8     0.047     0.101    0.185   0.433    0.000   \n",
       "4100   5.1  0.1         3.6     0.118     0.221    0.086   0.591    0.012   \n",
       "2986   2.6  0.3       -15.5     0.091     0.164    0.151   0.434    0.043   \n",
       "12440  1.9  0.3        -9.5     0.043     0.239    0.183   0.495    0.077   \n",
       "8613   2.6  1.1        -6.3     0.021     0.114    0.164   0.565    0.097   \n",
       "773    1.0  0.0         0.9     0.088     0.103    0.138   0.563    0.000   \n",
       "\n",
       "        season  drafted_flag  \n",
       "4025   2006-07             1  \n",
       "9060   2019-20             1  \n",
       "4515   2008-09             1  \n",
       "186    1996-97             1  \n",
       "12624  2022-23             0  \n",
       "4100   2007-08             1  \n",
       "2986   2004-05             1  \n",
       "12440  2021-22             0  \n",
       "8613   2018-19             1  \n",
       "773    1998-99             1  "
      ]
     },
     "execution_count": 758,
     "metadata": {},
     "output_type": "execute_result"
    }
   ],
   "source": [
    "df[df.age > iqr_top].sort_values('age', ascending=False).head(10)"
   ]
  },
  {
   "cell_type": "markdown",
   "id": "f692df79-b184-43fc-9a6b-56e9e3a47708",
   "metadata": {},
   "source": [
    "**No incorrect data found - no need to delete outliers**"
   ]
  },
  {
   "cell_type": "markdown",
   "id": "d56ac06a-9404-48c8-a7fb-df5de859a400",
   "metadata": {},
   "source": [
    "### Delete columns with unneccesary stats from the table."
   ]
  },
  {
   "cell_type": "code",
   "execution_count": 1084,
   "id": "4d7ed6a8-2e9b-4c58-b60c-d11d58aa87cb",
   "metadata": {},
   "outputs": [],
   "source": [
    "df = df.drop(df.iloc[:, 14:18], axis=1)"
   ]
  },
  {
   "cell_type": "markdown",
   "id": "e65f801e-dd16-4a80-ad90-fc6e219734ed",
   "metadata": {},
   "source": [
    "### Add 'season_year' column capturing the first year from 'season' in datetime format."
   ]
  },
  {
   "cell_type": "code",
   "execution_count": 1085,
   "id": "1ba57e83-af61-4168-9a22-0094a1f7a468",
   "metadata": {},
   "outputs": [],
   "source": [
    "df['season_year'] = df.season.apply(lambda str: str[:4])"
   ]
  },
  {
   "cell_type": "code",
   "execution_count": 1086,
   "id": "05db7f8a-480c-4a17-bceb-117f8dd614db",
   "metadata": {},
   "outputs": [],
   "source": [
    "df.season_year = pd.to_datetime(df.season_year, format='%Y')"
   ]
  },
  {
   "cell_type": "code",
   "execution_count": 1087,
   "id": "8e514129-3284-4f52-868d-192e5557269f",
   "metadata": {},
   "outputs": [
    {
     "data": {
      "text/html": [
       "<div>\n",
       "<style scoped>\n",
       "    .dataframe tbody tr th:only-of-type {\n",
       "        vertical-align: middle;\n",
       "    }\n",
       "\n",
       "    .dataframe tbody tr th {\n",
       "        vertical-align: top;\n",
       "    }\n",
       "\n",
       "    .dataframe thead th {\n",
       "        text-align: right;\n",
       "    }\n",
       "</style>\n",
       "<table border=\"1\" class=\"dataframe\">\n",
       "  <thead>\n",
       "    <tr style=\"text-align: right;\">\n",
       "      <th></th>\n",
       "      <th>player_name</th>\n",
       "      <th>team_abbreviation</th>\n",
       "      <th>age</th>\n",
       "      <th>player_height</th>\n",
       "      <th>player_weight</th>\n",
       "      <th>college</th>\n",
       "      <th>country</th>\n",
       "      <th>draft_year</th>\n",
       "      <th>draft_round</th>\n",
       "      <th>draft_number</th>\n",
       "      <th>gp</th>\n",
       "      <th>pts</th>\n",
       "      <th>reb</th>\n",
       "      <th>ast</th>\n",
       "      <th>ts_pct</th>\n",
       "      <th>ast_pct</th>\n",
       "      <th>season</th>\n",
       "      <th>drafted_flag</th>\n",
       "      <th>season_year</th>\n",
       "    </tr>\n",
       "  </thead>\n",
       "  <tbody>\n",
       "    <tr>\n",
       "      <th>0</th>\n",
       "      <td>Randy Livingston</td>\n",
       "      <td>HOU</td>\n",
       "      <td>22.0</td>\n",
       "      <td>193.0</td>\n",
       "      <td>94.8</td>\n",
       "      <td>Louisiana State</td>\n",
       "      <td>USA</td>\n",
       "      <td>1996.0</td>\n",
       "      <td>2</td>\n",
       "      <td>42</td>\n",
       "      <td>64</td>\n",
       "      <td>3.9</td>\n",
       "      <td>1.5</td>\n",
       "      <td>2.4</td>\n",
       "      <td>0.487</td>\n",
       "      <td>0.248</td>\n",
       "      <td>1996-97</td>\n",
       "      <td>1</td>\n",
       "      <td>1996-01-01</td>\n",
       "    </tr>\n",
       "    <tr>\n",
       "      <th>1</th>\n",
       "      <td>Gaylon Nickerson</td>\n",
       "      <td>WAS</td>\n",
       "      <td>28.0</td>\n",
       "      <td>190.5</td>\n",
       "      <td>86.2</td>\n",
       "      <td>Northwestern Oklahoma</td>\n",
       "      <td>USA</td>\n",
       "      <td>1994.0</td>\n",
       "      <td>2</td>\n",
       "      <td>34</td>\n",
       "      <td>4</td>\n",
       "      <td>3.8</td>\n",
       "      <td>1.3</td>\n",
       "      <td>0.3</td>\n",
       "      <td>0.497</td>\n",
       "      <td>0.043</td>\n",
       "      <td>1996-97</td>\n",
       "      <td>1</td>\n",
       "      <td>1996-01-01</td>\n",
       "    </tr>\n",
       "    <tr>\n",
       "      <th>2</th>\n",
       "      <td>George Lynch</td>\n",
       "      <td>VAN</td>\n",
       "      <td>26.0</td>\n",
       "      <td>203.2</td>\n",
       "      <td>103.4</td>\n",
       "      <td>North Carolina</td>\n",
       "      <td>USA</td>\n",
       "      <td>1993.0</td>\n",
       "      <td>1</td>\n",
       "      <td>12</td>\n",
       "      <td>41</td>\n",
       "      <td>8.3</td>\n",
       "      <td>6.4</td>\n",
       "      <td>1.9</td>\n",
       "      <td>0.512</td>\n",
       "      <td>0.125</td>\n",
       "      <td>1996-97</td>\n",
       "      <td>1</td>\n",
       "      <td>1996-01-01</td>\n",
       "    </tr>\n",
       "    <tr>\n",
       "      <th>3</th>\n",
       "      <td>George McCloud</td>\n",
       "      <td>LAL</td>\n",
       "      <td>30.0</td>\n",
       "      <td>203.2</td>\n",
       "      <td>102.1</td>\n",
       "      <td>Florida State</td>\n",
       "      <td>USA</td>\n",
       "      <td>1989.0</td>\n",
       "      <td>1</td>\n",
       "      <td>7</td>\n",
       "      <td>64</td>\n",
       "      <td>10.2</td>\n",
       "      <td>2.8</td>\n",
       "      <td>1.7</td>\n",
       "      <td>0.527</td>\n",
       "      <td>0.125</td>\n",
       "      <td>1996-97</td>\n",
       "      <td>1</td>\n",
       "      <td>1996-01-01</td>\n",
       "    </tr>\n",
       "    <tr>\n",
       "      <th>4</th>\n",
       "      <td>George Zidek</td>\n",
       "      <td>DEN</td>\n",
       "      <td>23.0</td>\n",
       "      <td>213.4</td>\n",
       "      <td>119.7</td>\n",
       "      <td>UCLA</td>\n",
       "      <td>USA</td>\n",
       "      <td>1995.0</td>\n",
       "      <td>1</td>\n",
       "      <td>22</td>\n",
       "      <td>52</td>\n",
       "      <td>2.8</td>\n",
       "      <td>1.7</td>\n",
       "      <td>0.3</td>\n",
       "      <td>0.500</td>\n",
       "      <td>0.064</td>\n",
       "      <td>1996-97</td>\n",
       "      <td>1</td>\n",
       "      <td>1996-01-01</td>\n",
       "    </tr>\n",
       "  </tbody>\n",
       "</table>\n",
       "</div>"
      ],
      "text/plain": [
       "        player_name team_abbreviation   age  player_height  player_weight  \\\n",
       "0  Randy Livingston               HOU  22.0          193.0           94.8   \n",
       "1  Gaylon Nickerson               WAS  28.0          190.5           86.2   \n",
       "2      George Lynch               VAN  26.0          203.2          103.4   \n",
       "3    George McCloud               LAL  30.0          203.2          102.1   \n",
       "4      George Zidek               DEN  23.0          213.4          119.7   \n",
       "\n",
       "                 college country  draft_year draft_round draft_number  gp  \\\n",
       "0        Louisiana State     USA      1996.0           2           42  64   \n",
       "1  Northwestern Oklahoma     USA      1994.0           2           34   4   \n",
       "2         North Carolina     USA      1993.0           1           12  41   \n",
       "3          Florida State     USA      1989.0           1            7  64   \n",
       "4                   UCLA     USA      1995.0           1           22  52   \n",
       "\n",
       "    pts  reb  ast  ts_pct  ast_pct   season  drafted_flag season_year  \n",
       "0   3.9  1.5  2.4   0.487    0.248  1996-97             1  1996-01-01  \n",
       "1   3.8  1.3  0.3   0.497    0.043  1996-97             1  1996-01-01  \n",
       "2   8.3  6.4  1.9   0.512    0.125  1996-97             1  1996-01-01  \n",
       "3  10.2  2.8  1.7   0.527    0.125  1996-97             1  1996-01-01  \n",
       "4   2.8  1.7  0.3   0.500    0.064  1996-97             1  1996-01-01  "
      ]
     },
     "execution_count": 1087,
     "metadata": {},
     "output_type": "execute_result"
    }
   ],
   "source": [
    "df.head()"
   ]
  },
  {
   "cell_type": "markdown",
   "id": "0dbc1f34-0016-455e-803c-d6aa9537990a",
   "metadata": {},
   "source": [
    "### Adjust dataset and try to realize if height and age affected on round and pick numbers."
   ]
  },
  {
   "cell_type": "code",
   "execution_count": 1215,
   "id": "8ee53b12-0707-4c6b-9e9a-0a22b761931a",
   "metadata": {},
   "outputs": [],
   "source": [
    "# make up a dataframe with unique players only for further analysis.\n",
    "df_unique = df.drop_duplicates('player_name')"
   ]
  },
  {
   "cell_type": "code",
   "execution_count": 1216,
   "id": "04e8259e-d93a-45a0-84e1-e7146d35cf84",
   "metadata": {},
   "outputs": [],
   "source": [
    "# convert str type values from 'draft_number' column to 'int'\n",
    "df_unique.draft_number = \\\n",
    "df_unique.draft_number.apply(lambda num: int(num) if pd.notnull(num) else np.nan)"
   ]
  },
  {
   "cell_type": "code",
   "execution_count": 864,
   "id": "88b2ff5f-980c-4100-8ec0-213f8b3ce248",
   "metadata": {},
   "outputs": [],
   "source": [
    "# filter out the players who were selected on draft and had their first year in the league\n",
    "df_drafted = df_unique[(df_unique.drafted_flag == 1) & (df_unique.draft_year >= 1996)]"
   ]
  },
  {
   "cell_type": "code",
   "execution_count": 865,
   "id": "c410988f-ebd9-414a-9731-76a6f31d5fed",
   "metadata": {},
   "outputs": [
    {
     "name": "stdout",
     "output_type": "stream",
     "text": [
      "201.08198133524763\n",
      "200.7\n"
     ]
    }
   ],
   "source": [
    "print(df_drafted.player_height.mean())\n",
    "print(df_drafted.player_height.median())"
   ]
  },
  {
   "cell_type": "code",
   "execution_count": 866,
   "id": "8b9bf8e7-7479-42a9-b42f-ed72c869d4cd",
   "metadata": {},
   "outputs": [
    {
     "data": {
      "text/plain": [
       "draft_round\n",
       "1    201.537641\n",
       "2    200.472651\n",
       "Name: player_height, dtype: float64"
      ]
     },
     "execution_count": 866,
     "metadata": {},
     "output_type": "execute_result"
    }
   ],
   "source": [
    "df_drafted.groupby(df_drafted.draft_round)['player_height'].mean()"
   ]
  },
  {
   "cell_type": "code",
   "execution_count": 776,
   "id": "af84d360-bed7-4931-84a0-e1b210ab0033",
   "metadata": {},
   "outputs": [],
   "source": [
    "result = \\\n",
    "df_unique[df_unique.draft_number < 10].groupby('college')['player_name'].count().sort_values(ascending=False).head(5)"
   ]
  },
  {
   "cell_type": "code",
   "execution_count": 777,
   "id": "86bedafd-82a4-4caf-aabd-dd322f1850eb",
   "metadata": {},
   "outputs": [
    {
     "data": {
      "image/png": "[encoded data removed]",
      "text/plain": [
       "<Figure size 640x480 with 1 Axes>"
      ]
     },
     "metadata": {},
     "output_type": "display_data"
    }
   ],
   "source": [
    "barplot = sns.barplot(x=result.index, y=result.values)\n",
    "plt.title('Colleges with the most players selected in the top 10 picks')\n",
    "\n",
    "for i in range(len(result.index)):\n",
    "    barplot.text(x=i, y=result.values[i], s=result.values[i], ha='center', va='bottom')\n",
    "\n",
    "plt.yticks(ticks=[])\n",
    "plt.ylabel('count')\n",
    "plt.show()"
   ]
  },
  {
   "cell_type": "code",
   "execution_count": 908,
   "id": "0a3d1b87-2116-4a78-a78f-941e8265d1b2",
   "metadata": {},
   "outputs": [
    {
     "data": {
      "text/plain": [
       "age              0.416458\n",
       "player_height   -0.089536\n",
       "player_weight   -0.037452\n",
       "draft_year       0.051612\n",
       "draft_number     1.000000\n",
       "gp              -0.494208\n",
       "pts             -0.531182\n",
       "reb             -0.457190\n",
       "ast             -0.326327\n",
       "ts_pct          -0.110448\n",
       "ast_pct         -0.045839\n",
       "drafted_flag          NaN\n",
       "Name: draft_number, dtype: float64"
      ]
     },
     "execution_count": 908,
     "metadata": {},
     "output_type": "execute_result"
    }
   ],
   "source": [
    "# check how age and height affect the draft number using Pearson coefficient\n",
    "df_drafted.corr(numeric_only=True)['draft_number']"
   ]
  },
  {
   "cell_type": "code",
   "execution_count": 902,
   "id": "869bc668-27f1-47b6-a248-88ea3f8f0cec",
   "metadata": {},
   "outputs": [
    {
     "data": {
      "text/plain": [
       "SignificanceResult(statistic=-0.3590566895503701, pvalue=1.2098476038720797e-43)"
      ]
     },
     "execution_count": 902,
     "metadata": {},
     "output_type": "execute_result"
    }
   ],
   "source": [
    "# check how age and height affect the draft round (binary variable) using Point Biserial\n",
    "df_biserial = df_drafted[['age', 'player_height', 'draft_round']]\n",
    "df_biserial['draft_round_bi'] = df_biserial['draft_round'].map({'1': 1, '2': 0})\n",
    "ss.pointbiserialr(df_biserial['draft_round_bi'], df_biserial['age'])"
   ]
  },
  {
   "cell_type": "code",
   "execution_count": 903,
   "id": "8a57a7cb-d714-4493-9e3c-8dbd22387578",
   "metadata": {},
   "outputs": [
    {
     "data": {
      "text/plain": [
       "SignificanceResult(statistic=0.06060344830096382, pvalue=0.02370073459878269)"
      ]
     },
     "execution_count": 903,
     "metadata": {},
     "output_type": "execute_result"
    }
   ],
   "source": [
    "ss.pointbiserialr(df_biserial['draft_round_bi'], df_biserial['player_height'])"
   ]
  },
  {
   "cell_type": "code",
   "execution_count": 906,
   "id": "63e209dd-5829-4b99-ae83-d0c90655939a",
   "metadata": {},
   "outputs": [
    {
     "data": {
      "text/plain": [
       "SignificanceResult(statistic=0.1529074807686811, pvalue=1.3539644280171903e-14)"
      ]
     },
     "execution_count": 906,
     "metadata": {},
     "output_type": "execute_result"
    }
   ],
   "source": [
    "df_biserial_2 = df_unique[['player_height', 'age', 'drafted_flag']]\n",
    "ss.pointbiserialr(df_biserial_2['drafted_flag'], df_biserial_2['player_height'])"
   ]
  },
  {
   "cell_type": "code",
   "execution_count": 914,
   "id": "20352781-6f9a-4225-b3e7-0d327880cc5c",
   "metadata": {},
   "outputs": [
    {
     "data": {
      "text/plain": [
       "SignificanceResult(statistic=-0.3683103762683956, pvalue=4.046052674583158e-76)"
      ]
     },
     "execution_count": 914,
     "metadata": {},
     "output_type": "execute_result"
    }
   ],
   "source": [
    "df_biserial_2 = df_unique[df_unique.age < 30][['player_height', 'age', 'drafted_flag']]\n",
    "ss.pointbiserialr(df_biserial_2['drafted_flag'], df_biserial_2['age'])"
   ]
  },
  {
   "cell_type": "markdown",
   "id": "b9d66695-4bbf-433c-885c-36b0a1d0f271",
   "metadata": {},
   "source": [
    "**According to the results of the analysis we can see that**<br>\n",
    "1) height has almost no effect on the selection of a player in the draft<br>\n",
    "2) age has a noticeable effect on the pick number, round and whether or not the player will be drafted at all.<br>\n",
    "\n",
    "**Let's try to predict the probability that a player will be selected in the draft, given his age, using linear regression.**"
   ]
  },
  {
   "cell_type": "markdown",
   "id": "20d86a28-e629-432c-baa4-d3177709a4ea",
   "metadata": {},
   "source": [
    "### Predictive analysis."
   ]
  },
  {
   "cell_type": "code",
   "execution_count": 940,
   "id": "ed781e5b-05b2-45b1-9dd9-c6f31e4246b5",
   "metadata": {},
   "outputs": [
    {
     "data": {
      "text/plain": [
       "player_height   -0.05942\n",
       "age              1.00000\n",
       "drafted_flag    -0.36831\n",
       "Name: age, dtype: float64"
      ]
     },
     "execution_count": 940,
     "metadata": {},
     "output_type": "execute_result"
    }
   ],
   "source": [
    "# check for multicollinearity\n",
    "df_biserial_2.corr()['age']"
   ]
  },
  {
   "cell_type": "code",
   "execution_count": 924,
   "id": "9d7b2e60-bb72-4da3-89f2-6551117e8fb4",
   "metadata": {},
   "outputs": [
    {
     "name": "stdout",
     "output_type": "stream",
     "text": [
      "Optimization terminated successfully.\n",
      "         Current function value: 0.544838\n",
      "         Iterations 6\n"
     ]
    },
    {
     "data": {
      "text/html": [
       "<table class=\"simpletable\">\n",
       "<caption>Logit Regression Results</caption>\n",
       "<tr>\n",
       "  <th>Dep. Variable:</th>     <td>drafted_flag</td>   <th>  No. Observations:  </th>  <td>  2341</td>  \n",
       "</tr>\n",
       "<tr>\n",
       "  <th>Model:</th>                 <td>Logit</td>      <th>  Df Residuals:      </th>  <td>  2338</td>  \n",
       "</tr>\n",
       "<tr>\n",
       "  <th>Method:</th>                 <td>MLE</td>       <th>  Df Model:          </th>  <td>     2</td>  \n",
       "</tr>\n",
       "<tr>\n",
       "  <th>Date:</th>            <td>Tue, 17 Oct 2023</td> <th>  Pseudo R-squ.:     </th>  <td>0.1281</td>  \n",
       "</tr>\n",
       "<tr>\n",
       "  <th>Time:</th>                <td>19:59:04</td>     <th>  Log-Likelihood:    </th> <td> -1275.5</td> \n",
       "</tr>\n",
       "<tr>\n",
       "  <th>converged:</th>             <td>True</td>       <th>  LL-Null:           </th> <td> -1462.9</td> \n",
       "</tr>\n",
       "<tr>\n",
       "  <th>Covariance Type:</th>     <td>nonrobust</td>    <th>  LLR p-value:       </th> <td>4.167e-82</td>\n",
       "</tr>\n",
       "</table>\n",
       "<table class=\"simpletable\">\n",
       "<tr>\n",
       "        <td></td>           <th>coef</th>     <th>std err</th>      <th>z</th>      <th>P>|z|</th>  <th>[0.025</th>    <th>0.975]</th>  \n",
       "</tr>\n",
       "<tr>\n",
       "  <th>const</th>         <td>    0.8950</td> <td>    0.050</td> <td>   17.899</td> <td> 0.000</td> <td>    0.797</td> <td>    0.993</td>\n",
       "</tr>\n",
       "<tr>\n",
       "  <th>age</th>           <td>   -0.3783</td> <td>    0.023</td> <td>  -16.358</td> <td> 0.000</td> <td>   -0.424</td> <td>   -0.333</td>\n",
       "</tr>\n",
       "<tr>\n",
       "  <th>player_height</th> <td>    0.0380</td> <td>    0.005</td> <td>    6.935</td> <td> 0.000</td> <td>    0.027</td> <td>    0.049</td>\n",
       "</tr>\n",
       "</table>"
      ],
      "text/latex": [
       "\\begin{center}\n",
       "\\begin{tabular}{lclc}\n",
       "\\toprule\n",
       "\\textbf{Dep. Variable:}   &  drafted\\_flag   & \\textbf{  No. Observations:  } &     2341    \\\\\n",
       "\\textbf{Model:}           &      Logit       & \\textbf{  Df Residuals:      } &     2338    \\\\\n",
       "\\textbf{Method:}          &       MLE        & \\textbf{  Df Model:          } &        2    \\\\\n",
       "\\textbf{Date:}            & Tue, 17 Oct 2023 & \\textbf{  Pseudo R-squ.:     } &   0.1281    \\\\\n",
       "\\textbf{Time:}            &     19:59:04     & \\textbf{  Log-Likelihood:    } &   -1275.5   \\\\\n",
       "\\textbf{converged:}       &       True       & \\textbf{  LL-Null:           } &   -1462.9   \\\\\n",
       "\\textbf{Covariance Type:} &    nonrobust     & \\textbf{  LLR p-value:       } & 4.167e-82   \\\\\n",
       "\\bottomrule\n",
       "\\end{tabular}\n",
       "\\begin{tabular}{lcccccc}\n",
       "                        & \\textbf{coef} & \\textbf{std err} & \\textbf{z} & \\textbf{P$> |$z$|$} & \\textbf{[0.025} & \\textbf{0.975]}  \\\\\n",
       "\\midrule\n",
       "\\textbf{const}          &       0.8950  &        0.050     &    17.899  &         0.000        &        0.797    &        0.993     \\\\\n",
       "\\textbf{age}            &      -0.3783  &        0.023     &   -16.358  &         0.000        &       -0.424    &       -0.333     \\\\\n",
       "\\textbf{player\\_height} &       0.0380  &        0.005     &     6.935  &         0.000        &        0.027    &        0.049     \\\\\n",
       "\\bottomrule\n",
       "\\end{tabular}\n",
       "%\\caption{Logit Regression Results}\n",
       "\\end{center}"
      ],
      "text/plain": [
       "<class 'statsmodels.iolib.summary.Summary'>\n",
       "\"\"\"\n",
       "                           Logit Regression Results                           \n",
       "==============================================================================\n",
       "Dep. Variable:           drafted_flag   No. Observations:                 2341\n",
       "Model:                          Logit   Df Residuals:                     2338\n",
       "Method:                           MLE   Df Model:                            2\n",
       "Date:                Tue, 17 Oct 2023   Pseudo R-squ.:                  0.1281\n",
       "Time:                        19:59:04   Log-Likelihood:                -1275.5\n",
       "converged:                       True   LL-Null:                       -1462.9\n",
       "Covariance Type:            nonrobust   LLR p-value:                 4.167e-82\n",
       "=================================================================================\n",
       "                    coef    std err          z      P>|z|      [0.025      0.975]\n",
       "---------------------------------------------------------------------------------\n",
       "const             0.8950      0.050     17.899      0.000       0.797       0.993\n",
       "age              -0.3783      0.023    -16.358      0.000      -0.424      -0.333\n",
       "player_height     0.0380      0.005      6.935      0.000       0.027       0.049\n",
       "=================================================================================\n",
       "\"\"\""
      ]
     },
     "execution_count": 924,
     "metadata": {},
     "output_type": "execute_result"
    }
   ],
   "source": [
    "X = sm.add_constant(df_biserial_2[['age', 'player_height']] - df_biserial_2[['age', 'player_height']].mean())  # centering around mean values\n",
    "y = df_biserial_2.drafted_flag\n",
    "\n",
    "logit = sm.Logit(y, X)\n",
    "results = logit.fit()\n",
    "results.summary()"
   ]
  },
  {
   "cell_type": "code",
   "execution_count": 930,
   "id": "4cae335a-0255-45c5-85ca-0ccb8bb9fa3a",
   "metadata": {},
   "outputs": [
    {
     "data": {
      "text/plain": [
       "2.447335789462311"
      ]
     },
     "execution_count": 930,
     "metadata": {},
     "output_type": "execute_result"
    }
   ],
   "source": [
    "np.exp(0.8950)  \n",
    "# For a player of mean age and a mean height relative to other players in the draft, \n",
    "# the probability of being selected increases by 2.45 times."
   ]
  },
  {
   "cell_type": "code",
   "execution_count": 931,
   "id": "79d65760-4089-4bb2-89e6-2956f137c06e",
   "metadata": {},
   "outputs": [
    {
     "data": {
      "text/plain": [
       "0.6850249623479597"
      ]
     },
     "execution_count": 931,
     "metadata": {},
     "output_type": "execute_result"
    }
   ],
   "source": [
    "np.exp(-0.3783) \n",
    "# As a player's age increases by 1 year (from mean age),\n",
    "# the probability of selecting him in the draft decreases by one-third."
   ]
  },
  {
   "cell_type": "code",
   "execution_count": 935,
   "id": "3fabf2c5-8cc7-4df0-b45d-e1339d997a7b",
   "metadata": {},
   "outputs": [
    {
     "data": {
      "text/plain": [
       "1.0387312328784977"
      ]
     },
     "execution_count": 935,
     "metadata": {},
     "output_type": "execute_result"
    }
   ],
   "source": [
    "np.exp(0.0380) # Player's height has relatively no affection on propability to be selected."
   ]
  },
  {
   "cell_type": "markdown",
   "id": "1d31b88d-eb1a-4f6d-aee7-2c5d3fa7d6ba",
   "metadata": {},
   "source": [
    "### Pull out geographical data from another dataset 'Players' to get each player's city and country (state if from the US) of birth.\n",
    "Complete the dataframe with information about the birth date of each player."
   ]
  },
  {
   "cell_type": "code",
   "execution_count": 837,
   "id": "7d0d8122-88ff-4dfb-90e2-fddb34cb2f44",
   "metadata": {},
   "outputs": [],
   "source": [
    "players = pd.read_csv('data/Players.csv')"
   ]
  },
  {
   "cell_type": "code",
   "execution_count": 838,
   "id": "14905d11-e254-4ed0-bd63-744af01e7436",
   "metadata": {},
   "outputs": [
    {
     "name": "stdout",
     "output_type": "stream",
     "text": [
      "<class 'pandas.core.frame.DataFrame'>\n",
      "RangeIndex: 3921 entries, 0 to 3920\n",
      "Data columns (total 8 columns):\n",
      " #   Column       Non-Null Count  Dtype \n",
      "---  ------       --------------  ----- \n",
      " 0   Unnamed: 0   3921 non-null   int64 \n",
      " 1   Player       3921 non-null   object\n",
      " 2   height       3921 non-null   int64 \n",
      " 3   weight       3921 non-null   int64 \n",
      " 4   collage      3573 non-null   object\n",
      " 5   born         3921 non-null   int64 \n",
      " 6   birth_city   3452 non-null   object\n",
      " 7   birth_state  3439 non-null   object\n",
      "dtypes: int64(4), object(4)\n",
      "memory usage: 245.2+ KB\n"
     ]
    }
   ],
   "source": [
    "players.info()"
   ]
  },
  {
   "cell_type": "code",
   "execution_count": 839,
   "id": "5772a5f7-e614-4b9d-ba5d-e3a208cfa4ad",
   "metadata": {},
   "outputs": [],
   "source": [
    "players = players.rename(columns={'Player': 'player_name'})"
   ]
  },
  {
   "cell_type": "code",
   "execution_count": 1217,
   "id": "a9cc14cb-c57a-41ea-97a5-749505c2feeb",
   "metadata": {},
   "outputs": [],
   "source": [
    "df_unique = \\\n",
    "df_unique.merge(players[['player_name', 'birth_city', 'birth_state']], how='left')"
   ]
  },
  {
   "cell_type": "code",
   "execution_count": 949,
   "id": "113a19ab-eeba-47c4-9ec1-89d667f196f0",
   "metadata": {},
   "outputs": [],
   "source": [
    "state_names = [\"Alaska\", \"Alabama\", \"Arkansas\", \"Arizona\", \"California\", \"Colorado\", \"Connecticut\", \"District of Columbia\", \"Delaware\", \"Florida\", \"Georgia\", \"Hawaii\", \"Iowa\", \"Idaho\", \"Illinois\", \"Indiana\", \"Kansas\", \"Kentucky\", \"Louisiana\", \"Massachusetts\", \"Maryland\", \"Maine\", \"Michigan\", \"Minnesota\", \"Missouri\", \"Mississippi\", \"Montana\", \"North Carolina\", \"North Dakota\", \"Nebraska\", \"New Hampshire\", \"New Jersey\", \"New Mexico\", \"Nevada\", \"New York\", \"Ohio\", \"Oklahoma\", \"Oregon\", \"Pennsylvania\", \"Puerto Rico\", \"Rhode Island\", \"South Carolina\", \"South Dakota\", \"Tennessee\", \"Texas\", \"Utah\", \"Virginia\", \"Vermont\", \"Washington\", \"Wisconsin\", \"West Virginia\", \"Wyoming\"]"
   ]
  },
  {
   "cell_type": "markdown",
   "id": "ae49fc0a-14f5-4672-b6d6-8d320175ffd1",
   "metadata": {},
   "source": [
    "**Make some replacements in 'country' column.**"
   ]
  },
  {
   "cell_type": "code",
   "execution_count": 1219,
   "id": "e7def746-ed16-4a6b-b9bc-11913525c90b",
   "metadata": {},
   "outputs": [],
   "source": [
    "df_unique.country = df_unique.country.replace(['Bosnia', 'Bosnia & Herzegovina'], 'Bosnia and Herzegovina')"
   ]
  },
  {
   "cell_type": "code",
   "execution_count": 1220,
   "id": "2d399a09-685a-41b0-ae37-786e79b8dd42",
   "metadata": {},
   "outputs": [],
   "source": [
    "df_unique.country = df_unique.country.replace(['DRC'], 'Democratic Republic of the Congo')"
   ]
  },
  {
   "cell_type": "code",
   "execution_count": 1221,
   "id": "d95764e2-5d55-463b-99b8-32d019cb9da6",
   "metadata": {},
   "outputs": [],
   "source": [
    "df_unique.country = df_unique.country.replace(['England', 'Scotland', 'Great Britain'], 'United Kingdom')"
   ]
  },
  {
   "cell_type": "code",
   "execution_count": 1222,
   "id": "3e404219-19f5-49e7-878e-ef55a2b31ad9",
   "metadata": {},
   "outputs": [],
   "source": [
    "df_unique.country = df_unique.country.replace(['Sudan (UK)'], 'South Sudan')"
   ]
  },
  {
   "cell_type": "code",
   "execution_count": 1223,
   "id": "ef8009f1-2f17-4830-8cd0-1f46e6d32d8b",
   "metadata": {},
   "outputs": [],
   "source": [
    "df_unique.country = df_unique.country.replace(['US Virgin Islands'], 'U.S. Virgin Islands')"
   ]
  },
  {
   "cell_type": "code",
   "execution_count": 1224,
   "id": "c3954d93-bcc4-4e8a-8f0f-0c852238556d",
   "metadata": {},
   "outputs": [],
   "source": [
    "df_unique.country = df_unique.country.replace(['USSR'], 'Lithuania')"
   ]
  },
  {
   "cell_type": "code",
   "execution_count": 1225,
   "id": "5b5015e7-aab1-4888-b4c6-51ac93b20325",
   "metadata": {},
   "outputs": [],
   "source": [
    "df_unique.country = df_unique.country.replace(['Serbia', 'Serbia and Montenegro'], 'Serbia')"
   ]
  },
  {
   "cell_type": "code",
   "execution_count": 1226,
   "id": "fe1f396a-0fd3-4b8a-a138-b4912bac83a1",
   "metadata": {},
   "outputs": [],
   "source": [
    "df_unique.loc[568,'country'] = df_unique.loc[568,'birth_state']\n",
    "df_unique.loc[581,'country'] = df_unique.loc[581,'birth_state']\n",
    "df_unique.loc[1879,'country'] = df_unique.loc[1879,'birth_state']\n",
    "df_unique.loc[1894,'country'] = df_unique.loc[1894,'birth_state']"
   ]
  },
  {
   "cell_type": "markdown",
   "id": "caf73b23-017c-4841-8b37-25e7df4dfbde",
   "metadata": {},
   "source": [
    "**Clear out 'birth_state' column from places that are not US states.**"
   ]
  },
  {
   "cell_type": "code",
   "execution_count": 1160,
   "id": "11b9412e-437b-4381-9a74-e7e414c8b1a8",
   "metadata": {},
   "outputs": [],
   "source": [
    "country_indexes = df_unique[(~df_unique.birth_state.isin(state_names)) &\n",
    "                            (~df_unique.birth_state.isnull())]['birth_state'].index"
   ]
  },
  {
   "cell_type": "code",
   "execution_count": 1228,
   "id": "5bcb9e18-1d26-4367-a82a-dfca9cfbe2b0",
   "metadata": {},
   "outputs": [],
   "source": [
    "df_unique.loc[country_indexes, 'birth_state'] = np.nan"
   ]
  },
  {
   "cell_type": "code",
   "execution_count": 1229,
   "id": "28617a1a-c9d1-44ca-bc26-887db135a3af",
   "metadata": {},
   "outputs": [
    {
     "data": {
      "text/plain": [
       "1079"
      ]
     },
     "execution_count": 1229,
     "metadata": {},
     "output_type": "execute_result"
    }
   ],
   "source": [
    "df_unique.birth_state.isnull().sum()"
   ]
  },
  {
   "cell_type": "markdown",
   "id": "7c69bfd5-9246-44d7-8268-8fdf4476cf86",
   "metadata": {},
   "source": [
    "### Delete unneeded columns from dataframes 'df' and 'df_unique'."
   ]
  },
  {
   "cell_type": "code",
   "execution_count": 1232,
   "id": "f1e1a502-e4c2-47c1-9ab1-4c66ac3473c0",
   "metadata": {},
   "outputs": [],
   "source": [
    "df_unique.drop(columns=df_unique.columns[10:17], inplace=True)"
   ]
  },
  {
   "cell_type": "code",
   "execution_count": 1235,
   "id": "d18e9d33-6512-4289-bf1d-f016f81df82c",
   "metadata": {},
   "outputs": [],
   "source": [
    "df_unique.drop(columns=df_unique.columns[11], inplace=True)"
   ]
  },
  {
   "cell_type": "code",
   "execution_count": 1239,
   "id": "2602a9f6-3bfc-457f-984d-9f1880d47851",
   "metadata": {},
   "outputs": [],
   "source": [
    "df_unique.drop(columns=df_unique.columns[2], inplace=True)"
   ]
  },
  {
   "cell_type": "code",
   "execution_count": 1240,
   "id": "e5fe3152-1c54-46a7-a94c-32eaf6138bae",
   "metadata": {},
   "outputs": [
    {
     "data": {
      "text/html": [
       "<div>\n",
       "<style scoped>\n",
       "    .dataframe tbody tr th:only-of-type {\n",
       "        vertical-align: middle;\n",
       "    }\n",
       "\n",
       "    .dataframe tbody tr th {\n",
       "        vertical-align: top;\n",
       "    }\n",
       "\n",
       "    .dataframe thead th {\n",
       "        text-align: right;\n",
       "    }\n",
       "</style>\n",
       "<table border=\"1\" class=\"dataframe\">\n",
       "  <thead>\n",
       "    <tr style=\"text-align: right;\">\n",
       "      <th></th>\n",
       "      <th>player_name</th>\n",
       "      <th>team_abbreviation</th>\n",
       "      <th>player_height</th>\n",
       "      <th>player_weight</th>\n",
       "      <th>college</th>\n",
       "      <th>country</th>\n",
       "      <th>draft_year</th>\n",
       "      <th>draft_round</th>\n",
       "      <th>draft_number</th>\n",
       "      <th>drafted_flag</th>\n",
       "      <th>birth_city</th>\n",
       "      <th>birth_state</th>\n",
       "    </tr>\n",
       "  </thead>\n",
       "  <tbody>\n",
       "    <tr>\n",
       "      <th>0</th>\n",
       "      <td>Randy Livingston</td>\n",
       "      <td>HOU</td>\n",
       "      <td>193.0</td>\n",
       "      <td>94.8</td>\n",
       "      <td>Louisiana State</td>\n",
       "      <td>USA</td>\n",
       "      <td>1996.0</td>\n",
       "      <td>2</td>\n",
       "      <td>42.0</td>\n",
       "      <td>1</td>\n",
       "      <td>New Orleans</td>\n",
       "      <td>Louisiana</td>\n",
       "    </tr>\n",
       "    <tr>\n",
       "      <th>1</th>\n",
       "      <td>Gaylon Nickerson</td>\n",
       "      <td>WAS</td>\n",
       "      <td>190.5</td>\n",
       "      <td>86.2</td>\n",
       "      <td>Northwestern Oklahoma</td>\n",
       "      <td>USA</td>\n",
       "      <td>1994.0</td>\n",
       "      <td>2</td>\n",
       "      <td>34.0</td>\n",
       "      <td>1</td>\n",
       "      <td>Osecola</td>\n",
       "      <td>Arkansas</td>\n",
       "    </tr>\n",
       "    <tr>\n",
       "      <th>2</th>\n",
       "      <td>George Lynch</td>\n",
       "      <td>VAN</td>\n",
       "      <td>203.2</td>\n",
       "      <td>103.4</td>\n",
       "      <td>North Carolina</td>\n",
       "      <td>USA</td>\n",
       "      <td>1993.0</td>\n",
       "      <td>1</td>\n",
       "      <td>12.0</td>\n",
       "      <td>1</td>\n",
       "      <td>Roanoke</td>\n",
       "      <td>Virginia</td>\n",
       "    </tr>\n",
       "    <tr>\n",
       "      <th>3</th>\n",
       "      <td>George McCloud</td>\n",
       "      <td>LAL</td>\n",
       "      <td>203.2</td>\n",
       "      <td>102.1</td>\n",
       "      <td>Florida State</td>\n",
       "      <td>USA</td>\n",
       "      <td>1989.0</td>\n",
       "      <td>1</td>\n",
       "      <td>7.0</td>\n",
       "      <td>1</td>\n",
       "      <td>Daytona Beach</td>\n",
       "      <td>Florida</td>\n",
       "    </tr>\n",
       "    <tr>\n",
       "      <th>4</th>\n",
       "      <td>George Zidek</td>\n",
       "      <td>DEN</td>\n",
       "      <td>213.4</td>\n",
       "      <td>119.7</td>\n",
       "      <td>UCLA</td>\n",
       "      <td>USA</td>\n",
       "      <td>1995.0</td>\n",
       "      <td>1</td>\n",
       "      <td>22.0</td>\n",
       "      <td>1</td>\n",
       "      <td>Zlin</td>\n",
       "      <td>NaN</td>\n",
       "    </tr>\n",
       "  </tbody>\n",
       "</table>\n",
       "</div>"
      ],
      "text/plain": [
       "        player_name team_abbreviation  player_height  player_weight  \\\n",
       "0  Randy Livingston               HOU          193.0           94.8   \n",
       "1  Gaylon Nickerson               WAS          190.5           86.2   \n",
       "2      George Lynch               VAN          203.2          103.4   \n",
       "3    George McCloud               LAL          203.2          102.1   \n",
       "4      George Zidek               DEN          213.4          119.7   \n",
       "\n",
       "                 college country  draft_year draft_round  draft_number  \\\n",
       "0        Louisiana State     USA      1996.0           2          42.0   \n",
       "1  Northwestern Oklahoma     USA      1994.0           2          34.0   \n",
       "2         North Carolina     USA      1993.0           1          12.0   \n",
       "3          Florida State     USA      1989.0           1           7.0   \n",
       "4                   UCLA     USA      1995.0           1          22.0   \n",
       "\n",
       "   drafted_flag     birth_city birth_state  \n",
       "0             1    New Orleans   Louisiana  \n",
       "1             1        Osecola    Arkansas  \n",
       "2             1        Roanoke    Virginia  \n",
       "3             1  Daytona Beach     Florida  \n",
       "4             1           Zlin         NaN  "
      ]
     },
     "execution_count": 1240,
     "metadata": {},
     "output_type": "execute_result"
    }
   ],
   "source": [
    "df_unique.head()"
   ]
  },
  {
   "cell_type": "code",
   "execution_count": 1247,
   "id": "3be9f899-cf35-440b-a53d-a24d2acf812c",
   "metadata": {},
   "outputs": [],
   "source": [
    "df.drop(columns=df.columns[3:10], inplace=True)"
   ]
  },
  {
   "cell_type": "code",
   "execution_count": 1249,
   "id": "3209caeb-01a3-4009-b9d7-3daf723d4fde",
   "metadata": {},
   "outputs": [],
   "source": [
    "df.drop(columns=df.columns[10], inplace=True)"
   ]
  },
  {
   "cell_type": "code",
   "execution_count": 1254,
   "id": "9585ffcf-5bf7-4992-b282-3fd41a61dfee",
   "metadata": {},
   "outputs": [],
   "source": [
    "df_unique.draft_year = pd.to_datetime(df_unique.draft_year, format='%Y')"
   ]
  },
  {
   "cell_type": "code",
   "execution_count": 1262,
   "id": "4190743b-0661-42f3-8753-5d885afc25f6",
   "metadata": {},
   "outputs": [],
   "source": [
    "df.to_csv('viz/NBA_by_seasons.csv', index=False)"
   ]
  },
  {
   "cell_type": "code",
   "execution_count": 1263,
   "id": "a9079d5c-595f-4b1c-8a08-8e6258457068",
   "metadata": {},
   "outputs": [],
   "source": [
    "df_unique.to_csv('viz/NBA_unique_players.csv', index=False)"
   ]
  }
 ],
 "metadata": {
  "kernelspec": {
   "display_name": "Python 3 (ipykernel)",
   "language": "python",
   "name": "python3"
  },
  "language_info": {
   "codemirror_mode": {
    "name": "ipython",
    "version": 3
   },
   "file_extension": ".py",
   "mimetype": "text/x-python",
   "name": "python",
   "nbconvert_exporter": "python",
   "pygments_lexer": "ipython3",
   "version": "3.11.4"
  }
 },
 "nbformat": 4,
 "nbformat_minor": 5
}
